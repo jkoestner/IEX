{
 "cells": [
  {
   "cell_type": "markdown",
   "id": "364959f2-78db-48a9-aeb5-ed08a19ab98c",
   "metadata": {},
   "source": [
    "# Portfolio Example"
   ]
  },
  {
   "cell_type": "code",
   "execution_count": null,
   "id": "5330c09f-9907-45cd-a62f-8e394ee1b580",
   "metadata": {
    "tags": []
   },
   "outputs": [],
   "source": [
    "import os"
   ]
  },
  {
   "cell_type": "code",
   "execution_count": null,
   "id": "32fd9e51-c68f-4e73-a3d9-cf9ebb1060c0",
   "metadata": {
    "tags": []
   },
   "outputs": [],
   "source": [
    "os.chdir(\"../\")"
   ]
  },
  {
   "cell_type": "markdown",
   "id": "7fe32eb8-48f1-41d2-8cda-72f8f396b281",
   "metadata": {},
   "source": [
    "## Import Modules"
   ]
  },
  {
   "cell_type": "code",
   "execution_count": null,
   "id": "0727a01e-4528-4d09-85ee-cce15db66e2c",
   "metadata": {
    "tags": []
   },
   "outputs": [],
   "source": [
    "from datetime import datetime\n",
    "\n",
    "import pandas as pd\n",
    "import yfinance as yf\n",
    "\n",
    "from iex.portfolio import portfolio\n",
    "\n",
    "pd.options.display.float_format = \"{:,.2f}\".format"
   ]
  },
  {
   "cell_type": "code",
   "execution_count": null,
   "id": "4bfe7e2f-c7c6-4d0a-ac6f-dea323945651",
   "metadata": {
    "tags": []
   },
   "outputs": [],
   "source": [
    "pd.set_option(\"display.max_rows\", 500)\n",
    "pd.set_option(\"display.max_columns\", 500)"
   ]
  },
  {
   "cell_type": "markdown",
   "id": "71671ced-c6d1-4105-bdc7-17c98a4c97ba",
   "metadata": {},
   "source": [
    "## Load Transactions"
   ]
  },
  {
   "cell_type": "code",
   "execution_count": null,
   "id": "1a0ae59a-ba7e-4253-9a12-bb4317d216e6",
   "metadata": {
    "tags": []
   },
   "outputs": [],
   "source": [
    "tx_file = r\"tests/files/test_transactions.xlsx\""
   ]
  },
  {
   "cell_type": "code",
   "execution_count": null,
   "id": "c355fe0d-af28-43ab-9af8-f3306572394a",
   "metadata": {
    "tags": []
   },
   "outputs": [],
   "source": [
    "test = portfolio.Portfolio(\n",
    "    tx_file, \n",
    "    filter_type=[\"Cash\", \"Dividend\"], \n",
    "    funds=[\"BLKRK\"], \n",
    "    delisted=[\"CCIV\"], \n",
    "    other_fields=[\"broker\"]\n",
    ")"
   ]
  },
  {
   "cell_type": "markdown",
   "id": "09f1c14d-be7f-4acb-9647-f23b4a3ddfd5",
   "metadata": {},
   "source": [
    "## Perfomance"
   ]
  },
  {
   "cell_type": "code",
   "execution_count": null,
   "id": "79004313-a3e2-4504-a68e-a5db8a27de7b",
   "metadata": {
    "tags": []
   },
   "outputs": [],
   "source": [
    "performance = test.get_performance()"
   ]
  },
  {
   "cell_type": "code",
   "execution_count": null,
   "id": "9f2ffccb-a7fe-43c0-a535-31cf8d1171bd",
   "metadata": {
    "tags": []
   },
   "outputs": [],
   "source": [
    "performance[performance['market_value']!=0].sort_values(\"return\", ascending=False)"
   ]
  },
  {
   "cell_type": "markdown",
   "id": "8e5afd84-a217-4f8b-bb21-25554b5b7633",
   "metadata": {},
   "source": [
    "### Company A"
   ]
  },
  {
   "cell_type": "code",
   "execution_count": null,
   "id": "1f2fd1bb-79be-4627-a75f-5c245650828a",
   "metadata": {
    "tags": []
   },
   "outputs": [],
   "source": [
    "company_a = test.transactions[\n",
    "    test.transactions[\"broker\"] == \"company_a\"\n",
    "]\n",
    "company_a = test.get_transactions_history(company_a)"
   ]
  },
  {
   "cell_type": "code",
   "execution_count": null,
   "id": "2b3e9346-6d4e-46bd-a33f-e70616f261f3",
   "metadata": {
    "tags": []
   },
   "outputs": [],
   "source": [
    "test.get_performance(tx_hist_df=company_a)"
   ]
  },
  {
   "cell_type": "markdown",
   "id": "71196ed9-8ddd-42e6-a4ed-4d47a3d1abb0",
   "metadata": {},
   "source": [
    "### Company B"
   ]
  },
  {
   "cell_type": "code",
   "execution_count": null,
   "id": "0c28c0f2-4486-4ff4-800e-d50ddc392158",
   "metadata": {
    "tags": []
   },
   "outputs": [],
   "source": [
    "company_b = test.transactions[\n",
    "    test.transactions[\"broker\"] == \"company_b\"\n",
    "]\n",
    "company_b = test.get_transactions_history(company_b)"
   ]
  },
  {
   "cell_type": "code",
   "execution_count": null,
   "id": "641a4a3d-2e73-473c-b84f-5e646092a236",
   "metadata": {
    "tags": []
   },
   "outputs": [],
   "source": [
    "performance = test.get_performance(tx_hist_df=company_b)"
   ]
  },
  {
   "cell_type": "code",
   "execution_count": null,
   "id": "79260f99-b95b-4639-b284-d11511ebde6e",
   "metadata": {
    "tags": []
   },
   "outputs": [],
   "source": [
    "performance[performance['market_value']!=0].sort_values(\"return\", ascending=False)"
   ]
  },
  {
   "cell_type": "markdown",
   "id": "24e3abf6-0c53-4d0c-9d67-e52069dd19be",
   "metadata": {},
   "source": [
    "## Transactions"
   ]
  },
  {
   "cell_type": "code",
   "execution_count": null,
   "id": "7e8c3b17-23d8-469e-b0ec-687604fc208c",
   "metadata": {
    "tags": []
   },
   "outputs": [],
   "source": [
    "transactions = test.transactions\n",
    "transactions.head(5)"
   ]
  },
  {
   "cell_type": "code",
   "execution_count": null,
   "id": "a797e4ba-7207-4bc2-b42d-dcd1d9d6075f",
   "metadata": {
    "tags": []
   },
   "outputs": [],
   "source": [
    "transactions_history = test.transactions_history\n",
    "transactions_history.head(5)"
   ]
  },
  {
   "cell_type": "markdown",
   "id": "f4f4e2a3-c2f5-4f7c-86ed-46622d2ca9b5",
   "metadata": {},
   "source": [
    "# Ticker Checks"
   ]
  },
  {
   "cell_type": "code",
   "execution_count": null,
   "id": "14c6f749-2564-417b-9604-877234720eab",
   "metadata": {
    "tags": []
   },
   "outputs": [],
   "source": [
    "ZM=transactions_history[transactions_history['ticker']=='ZM']"
   ]
  },
  {
   "cell_type": "code",
   "execution_count": null,
   "id": "ccc12c1a-790c-4690-b505-cfcbbe44e289",
   "metadata": {
    "tags": []
   },
   "outputs": [],
   "source": [
    "ZM[ZM[\"units\"] != 0]"
   ]
  },
  {
   "cell_type": "markdown",
   "id": "b78566a8-53b0-4ea1-b662-1d2d0653e115",
   "metadata": {},
   "source": [
    "# Reload"
   ]
  },
  {
   "cell_type": "code",
   "execution_count": null,
   "id": "5508a188-f1c0-4f1e-bcd1-936e2e129cce",
   "metadata": {},
   "outputs": [],
   "source": [
    "break"
   ]
  },
  {
   "cell_type": "code",
   "execution_count": null,
   "id": "c41d79d4-21c5-4ad4-953a-1dcf7dd165bd",
   "metadata": {},
   "outputs": [],
   "source": [
    "import importlib"
   ]
  },
  {
   "cell_type": "code",
   "execution_count": null,
   "id": "8f20638c-e4e8-4066-9dab-04c7867d5fa3",
   "metadata": {},
   "outputs": [],
   "source": [
    "importlib.reload(portfolio)"
   ]
  },
  {
   "cell_type": "markdown",
   "id": "61b9642a-baab-4571-b93a-acbbb76ec7ee",
   "metadata": {},
   "source": [
    "# Test"
   ]
  }
 ],
 "metadata": {
  "kernelspec": {
   "display_name": "iex",
   "language": "python",
   "name": "iex"
  },
  "language_info": {
   "codemirror_mode": {
    "name": "ipython",
    "version": 3
   },
   "file_extension": ".py",
   "mimetype": "text/x-python",
   "name": "python",
   "nbconvert_exporter": "python",
   "pygments_lexer": "ipython3",
   "version": "3.10.8"
  },
  "toc-autonumbering": true
 },
 "nbformat": 4,
 "nbformat_minor": 5
}
