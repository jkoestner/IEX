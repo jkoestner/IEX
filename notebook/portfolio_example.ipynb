{
 "cells": [
  {
   "cell_type": "markdown",
   "id": "364959f2-78db-48a9-aeb5-ed08a19ab98c",
   "metadata": {},
   "source": [
    "# Initialize"
   ]
  },
  {
   "cell_type": "code",
   "execution_count": null,
   "id": "5330c09f-9907-45cd-a62f-8e394ee1b580",
   "metadata": {
    "tags": []
   },
   "outputs": [],
   "source": [
    "import os"
   ]
  },
  {
   "cell_type": "code",
   "execution_count": null,
   "id": "32fd9e51-c68f-4e73-a3d9-cf9ebb1060c0",
   "metadata": {
    "tags": []
   },
   "outputs": [],
   "source": [
    "os.chdir(\"../\")"
   ]
  },
  {
   "cell_type": "code",
   "execution_count": null,
   "id": "bce989e4-fcb9-4ddd-8ace-fd0bfb377ba5",
   "metadata": {
    "tags": []
   },
   "outputs": [],
   "source": [
    "os.getcwd()"
   ]
  },
  {
   "cell_type": "markdown",
   "id": "7fe32eb8-48f1-41d2-8cda-72f8f396b281",
   "metadata": {},
   "source": [
    "# Import Modules"
   ]
  },
  {
   "cell_type": "code",
   "execution_count": null,
   "id": "0727a01e-4528-4d09-85ee-cce15db66e2c",
   "metadata": {
    "tags": []
   },
   "outputs": [],
   "source": [
    "from datetime import datetime\n",
    "\n",
    "import pandas as pd\n",
    "import yfinance as yf\n",
    "\n",
    "from iex.portfolio import portfolio, heatmap\n",
    "\n",
    "pd.options.display.float_format = \"{:,.2f}\".format"
   ]
  },
  {
   "cell_type": "code",
   "execution_count": null,
   "id": "4bfe7e2f-c7c6-4d0a-ac6f-dea323945651",
   "metadata": {
    "tags": []
   },
   "outputs": [],
   "source": [
    "pd.set_option(\"display.max_rows\", 500)\n",
    "pd.set_option(\"display.max_columns\", 500)"
   ]
  },
  {
   "cell_type": "markdown",
   "id": "71671ced-c6d1-4105-bdc7-17c98a4c97ba",
   "metadata": {},
   "source": [
    "## Load Transactions"
   ]
  },
  {
   "cell_type": "markdown",
   "id": "09f1c14d-be7f-4acb-9647-f23b4a3ddfd5",
   "metadata": {},
   "source": [
    "# Portfolio Class"
   ]
  },
  {
   "cell_type": "markdown",
   "id": "c6a1dc6b-1adc-45ae-8f8e-eefb64645cb3",
   "metadata": {},
   "source": [
    "## Constants"
   ]
  },
  {
   "cell_type": "code",
   "execution_count": null,
   "id": "3b555b5e-9ce2-44b2-a53c-315e68c36bc3",
   "metadata": {
    "tags": []
   },
   "outputs": [],
   "source": [
    "# constant variables used in program\n",
    "filter_type=[\"Cash\", \"Dividend\"]\n",
    "funds=[\"BLKRK\"]\n",
    "delisted=[\"CCIV\"] \n",
    "other_fields=[\"broker\"]\n",
    "benchmarks=[\"IVV\"]"
   ]
  },
  {
   "cell_type": "code",
   "execution_count": null,
   "id": "1a0ae59a-ba7e-4253-9a12-bb4317d216e6",
   "metadata": {
    "tags": []
   },
   "outputs": [],
   "source": [
    "tx_file = r\"tests/files/test_transactions.xlsx\""
   ]
  },
  {
   "cell_type": "markdown",
   "id": "c820632f-3b33-4dcf-8544-d8c5ff805716",
   "metadata": {},
   "source": [
    "## Portfolios"
   ]
  },
  {
   "cell_type": "markdown",
   "id": "4e65f108-4838-4f82-a501-17ae3c36125a",
   "metadata": {},
   "source": [
    "### All"
   ]
  },
  {
   "cell_type": "code",
   "execution_count": null,
   "id": "c355fe0d-af28-43ab-9af8-f3306572394a",
   "metadata": {
    "tags": []
   },
   "outputs": [],
   "source": [
    "pf = portfolio.Portfolio(\n",
    "    tx_file, \n",
    "    filter_type=filter_type, \n",
    "    funds=funds, \n",
    "    delisted=delisted, \n",
    "    other_fields=other_fields,\n",
    "    name='all'\n",
    ")"
   ]
  },
  {
   "cell_type": "code",
   "execution_count": null,
   "id": "7b1899cc-21b9-4a20-8336-3cb933e35e99",
   "metadata": {
    "tags": []
   },
   "outputs": [],
   "source": [
    "performance = pf.get_performance()"
   ]
  },
  {
   "cell_type": "code",
   "execution_count": null,
   "id": "71d383c9-5f65-49c5-8869-ea0e09a3fcf6",
   "metadata": {
    "tags": []
   },
   "outputs": [],
   "source": [
    "performance[performance['market_value']!=0].sort_values(\"return\", ascending=False)"
   ]
  },
  {
   "cell_type": "markdown",
   "id": "8e5afd84-a217-4f8b-bb21-25554b5b7633",
   "metadata": {},
   "source": [
    "### Portfolio A"
   ]
  },
  {
   "cell_type": "code",
   "execution_count": null,
   "id": "1f2fd1bb-79be-4627-a75f-5c245650828a",
   "metadata": {
    "tags": []
   },
   "outputs": [],
   "source": [
    "company_a = portfolio.Portfolio(\n",
    "    tx_file,\n",
    "    filter_type=filter_type,\n",
    "    funds=funds,\n",
    "    delisted=delisted,\n",
    "    other_fields=other_fields,\n",
    "    name='company_a',\n",
    "    filter_broker=[\"company_a\"],\n",
    ")"
   ]
  },
  {
   "cell_type": "code",
   "execution_count": null,
   "id": "2b3e9346-6d4e-46bd-a33f-e70616f261f3",
   "metadata": {
    "tags": []
   },
   "outputs": [],
   "source": [
    "company_a_perf = company_a.get_performance()"
   ]
  },
  {
   "cell_type": "markdown",
   "id": "71196ed9-8ddd-42e6-a4ed-4d47a3d1abb0",
   "metadata": {},
   "source": [
    "### Portfolio B"
   ]
  },
  {
   "cell_type": "code",
   "execution_count": null,
   "id": "0c28c0f2-4486-4ff4-800e-d50ddc392158",
   "metadata": {
    "tags": []
   },
   "outputs": [],
   "source": [
    "company_b = portfolio.Portfolio(\n",
    "    tx_file,\n",
    "    filter_type=filter_type,\n",
    "    funds=funds,\n",
    "    delisted=delisted,\n",
    "    other_fields=other_fields,\n",
    "    name='company_a',\n",
    "    filter_broker=[\"company_b\"],\n",
    ")"
   ]
  },
  {
   "cell_type": "code",
   "execution_count": null,
   "id": "641a4a3d-2e73-473c-b84f-5e646092a236",
   "metadata": {
    "tags": []
   },
   "outputs": [],
   "source": [
    "company_b_perf = company_b.get_performance()"
   ]
  },
  {
   "cell_type": "code",
   "execution_count": null,
   "id": "79260f99-b95b-4639-b284-d11511ebde6e",
   "metadata": {
    "tags": []
   },
   "outputs": [],
   "source": [
    "company_b_perf[company_b_perf['market_value']!=0].sort_values(\"return\", ascending=False)"
   ]
  },
  {
   "cell_type": "markdown",
   "id": "bc9e1c27-f859-4b5e-be26-ec546f1993e2",
   "metadata": {},
   "source": [
    "# Manager Class"
   ]
  },
  {
   "cell_type": "code",
   "execution_count": null,
   "id": "ad89679f-63a0-4409-bbba-98c532e1bfa6",
   "metadata": {
    "tags": []
   },
   "outputs": [],
   "source": [
    "portfolios = [pf, company_a, company_b]\n",
    "pm = portfolio.Manager(portfolios)"
   ]
  },
  {
   "cell_type": "code",
   "execution_count": null,
   "id": "6e54a449-5129-4dca-a7ba-73058f4c2aea",
   "metadata": {
    "tags": []
   },
   "outputs": [],
   "source": [
    "pm_df = pm.get_summary(lookback=5)\n",
    "pm_df['simple_return_pct'] = pm_df['simple_return_pct'].apply(lambda x: \"{:.2%}\".format(x))\n",
    "pm_df['return_pct'] = pm_df['return_pct'].apply(lambda x: \"{:.2%}\".format(x))\n",
    "pm_df.reset_index()"
   ]
  },
  {
   "cell_type": "markdown",
   "id": "9af70251-b8cf-4f56-abb5-ad1b442dca02",
   "metadata": {},
   "source": [
    "# Heatmap"
   ]
  },
  {
   "cell_type": "code",
   "execution_count": null,
   "id": "fac1e170-d1c0-4e72-8d9b-14ee98968255",
   "metadata": {
    "tags": []
   },
   "outputs": [],
   "source": [
    "fig = heatmap.get_heatmap()"
   ]
  },
  {
   "cell_type": "code",
   "execution_count": null,
   "id": "ffcddcd7-d9a2-42b5-bcb0-ad8ccb75b488",
   "metadata": {
    "tags": []
   },
   "outputs": [],
   "source": [
    "fig.show()"
   ]
  },
  {
   "cell_type": "markdown",
   "id": "4e9701ff-c9dc-4cdc-ae7b-bca032080a2b",
   "metadata": {},
   "source": [
    "# Checks"
   ]
  },
  {
   "cell_type": "markdown",
   "id": "24e3abf6-0c53-4d0c-9d67-e52069dd19be",
   "metadata": {},
   "source": [
    "## Transactions"
   ]
  },
  {
   "cell_type": "code",
   "execution_count": null,
   "id": "7e8c3b17-23d8-469e-b0ec-687604fc208c",
   "metadata": {
    "tags": []
   },
   "outputs": [],
   "source": [
    "transactions = pf.transactions\n",
    "transactions.head(5)"
   ]
  },
  {
   "cell_type": "code",
   "execution_count": null,
   "id": "a797e4ba-7207-4bc2-b42d-dcd1d9d6075f",
   "metadata": {
    "tags": []
   },
   "outputs": [],
   "source": [
    "transactions_history = pf.transactions_history\n",
    "transactions_history.head(5)"
   ]
  },
  {
   "cell_type": "markdown",
   "id": "f4f4e2a3-c2f5-4f7c-86ed-46622d2ca9b5",
   "metadata": {},
   "source": [
    "## Ticker Checks"
   ]
  },
  {
   "cell_type": "code",
   "execution_count": null,
   "id": "14c6f749-2564-417b-9604-877234720eab",
   "metadata": {
    "tags": []
   },
   "outputs": [],
   "source": [
    "single_ticker = transactions_history[transactions_history['ticker']=='ZM']"
   ]
  },
  {
   "cell_type": "code",
   "execution_count": null,
   "id": "ccc12c1a-790c-4690-b505-cfcbbe44e289",
   "metadata": {
    "tags": []
   },
   "outputs": [],
   "source": [
    "ZM[ZM[\"units\"] != 0]"
   ]
  },
  {
   "cell_type": "markdown",
   "id": "7b673c93-2f0c-4ba0-b131-63ebd56d6a5c",
   "metadata": {},
   "source": [
    "## Return"
   ]
  },
  {
   "cell_type": "code",
   "execution_count": null,
   "id": "9a7959ea-7802-4a9e-b0c7-6627603d4d4b",
   "metadata": {},
   "outputs": [],
   "source": [
    "pf.get_view(\"return\")"
   ]
  },
  {
   "cell_type": "markdown",
   "id": "b78566a8-53b0-4ea1-b662-1d2d0653e115",
   "metadata": {},
   "source": [
    "# Reload"
   ]
  },
  {
   "cell_type": "code",
   "execution_count": null,
   "id": "5508a188-f1c0-4f1e-bcd1-936e2e129cce",
   "metadata": {},
   "outputs": [],
   "source": [
    "break"
   ]
  },
  {
   "cell_type": "code",
   "execution_count": null,
   "id": "c41d79d4-21c5-4ad4-953a-1dcf7dd165bd",
   "metadata": {},
   "outputs": [],
   "source": [
    "import importlib"
   ]
  },
  {
   "cell_type": "code",
   "execution_count": null,
   "id": "8f20638c-e4e8-4066-9dab-04c7867d5fa3",
   "metadata": {},
   "outputs": [],
   "source": [
    "importlib.reload(portfolio)"
   ]
  }
 ],
 "metadata": {
  "kernelspec": {
   "display_name": "iex",
   "language": "python",
   "name": "iex"
  },
  "language_info": {
   "codemirror_mode": {
    "name": "ipython",
    "version": 3
   },
   "file_extension": ".py",
   "mimetype": "text/x-python",
   "name": "python",
   "nbconvert_exporter": "python",
   "pygments_lexer": "ipython3",
   "version": "3.10.8"
  },
  "toc-autonumbering": true
 },
 "nbformat": 4,
 "nbformat_minor": 5
}
